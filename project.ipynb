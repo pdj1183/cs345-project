{
 "cells": [
  {
   "cell_type": "markdown",
   "metadata": {},
   "source": [
    "# Random Forest Training\n",
    "We are going to use the data on the 30 second clips to train our basline Random Forsest Model"
   ]
  },
  {
   "cell_type": "code",
   "execution_count": 23,
   "metadata": {},
   "outputs": [],
   "source": [
    "import numpy as np\n",
    "import matplotlib.pyplot as plt\n",
    "from sklearn.ensemble import RandomForestClassifier\n",
    "import pandas as pd\n",
    "from sklearn.preprocessing import LabelEncoder\n",
    "from sklearn.model_selection import train_test_split"
   ]
  },
  {
   "cell_type": "markdown",
   "metadata": {},
   "source": [
    "# Load in the data set and encode the labels\n",
    "This allows us to make a prediction on the 10 labels. Predictions made are integers not strings"
   ]
  },
  {
   "cell_type": "code",
   "execution_count": 24,
   "metadata": {},
   "outputs": [
    {
     "name": "stdout",
     "output_type": "stream",
     "text": [
      "0          blues\n",
      "100    classical\n",
      "200      country\n",
      "300        disco\n",
      "400       hiphop\n",
      "500         jazz\n",
      "600        metal\n",
      "700          pop\n",
      "800       reggae\n",
      "900         rock\n",
      "Name: label, dtype: object\n",
      "0      0\n",
      "100    1\n",
      "200    2\n",
      "300    3\n",
      "400    4\n",
      "500    5\n",
      "600    6\n",
      "700    7\n",
      "800    8\n",
      "900    9\n",
      "Name: label, dtype: int64\n",
      "(1000, 60)\n"
     ]
    }
   ],
   "source": [
    "data = pd.read_csv(\"./Data/features_30_sec.csv\")\n",
    "\n",
    "print(data[\"label\"][::100])\n",
    "encoder = LabelEncoder()\n",
    "data[\"label\"] = encoder.fit_transform(data[\"label\"])\n",
    "print(data[\"label\"][::100])\n",
    "print(data.shape)"
   ]
  },
  {
   "cell_type": "markdown",
   "metadata": {},
   "source": [
    "# Remove incompatible data and split data\n",
    "We are removing the label and the filename from the X data. This is required because they are strings and the genere is in the filename so this could skew the model."
   ]
  },
  {
   "cell_type": "code",
   "execution_count": 25,
   "metadata": {},
   "outputs": [
    {
     "name": "stdout",
     "output_type": "stream",
     "text": [
      "(800, 58)\n",
      "(800,)\n"
     ]
    }
   ],
   "source": [
    "clean_X = data.drop(['label', 'filename'], axis=1)\n",
    "clean_y = data['label']\n",
    "\n",
    "X_train, X_test, y_train, y_test = train_test_split(clean_X, clean_y, test_size=0.2, random_state=101)\n",
    "print(X_train.shape)\n",
    "print(y_train.shape)"
   ]
  },
  {
   "cell_type": "markdown",
   "metadata": {},
   "source": [
    "# Train and assess the Random Forest "
   ]
  },
  {
   "cell_type": "code",
   "execution_count": 36,
   "metadata": {},
   "outputs": [
    {
     "name": "stdout",
     "output_type": "stream",
     "text": [
      "[0.76  0.75  0.775 0.775 0.8   0.8   0.775 0.775 0.755 0.755 0.775 0.77\n",
      " 0.755 0.77  0.77  0.795 0.785 0.775 0.78  0.78  0.76  0.775 0.785 0.75\n",
      " 0.79  0.77  0.78  0.77  0.785 0.77  0.8   0.78  0.78  0.79  0.78  0.77\n",
      " 0.785 0.765 0.775 0.755 0.76  0.77  0.79  0.75  0.795 0.765 0.78  0.785\n",
      " 0.8   0.8  ]\n",
      "Random Forest average accuracy: 77.57%\n"
     ]
    }
   ],
   "source": [
    "number_tests = 50\n",
    "baseline_accuracy = np.zeros(number_tests)\n",
    "for i in range(number_tests):\n",
    "    model = RandomForestClassifier(n_estimators=100)\n",
    "    model.fit(X=X_train, y=y_train)\n",
    "\n",
    "    y_pred = model.predict(X_test)\n",
    "    baseline_accuracy[i] = np.mean(y_pred == y_test)\n",
    "print(baseline_accuracy)\n",
    "print(f\"Random Forest average accuracy: {np.mean(baseline_accuracy)*100}%\")"
   ]
  },
  {
   "cell_type": "markdown",
   "metadata": {},
   "source": [
    "Running the model 50 times it looks like we have average prediction accuracy of 78% with a Random Forest with 100 estimators. This is our baseline prediction accuracy that we hope to beat with the Convolutional Neural Network."
   ]
  },
  {
   "cell_type": "code",
   "execution_count": null,
   "metadata": {},
   "outputs": [],
   "source": []
  }
 ],
 "metadata": {
  "kernelspec": {
   "display_name": "IntroML",
   "language": "python",
   "name": "python3"
  },
  "language_info": {
   "codemirror_mode": {
    "name": "ipython",
    "version": 3
   },
   "file_extension": ".py",
   "mimetype": "text/x-python",
   "name": "python",
   "nbconvert_exporter": "python",
   "pygments_lexer": "ipython3",
   "version": "3.8.18"
  }
 },
 "nbformat": 4,
 "nbformat_minor": 2
}
